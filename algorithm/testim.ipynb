{
 "cells": [
  {
   "cell_type": "code",
   "execution_count": 29,
   "metadata": {},
   "outputs": [],
   "source": [
    "from modules.DesTree import DesTree\n",
    "import modules.Patterns as pts\n",
    "import json"
   ]
  },
  {
   "cell_type": "code",
   "execution_count": 30,
   "metadata": {},
   "outputs": [],
   "source": [
    "with open(\"json_files/test_init.json\") as inp:\n",
    "        ptrn = pts.Pattern(json.load(inp))\n",
    "DTree = DesTree(ptrn)"
   ]
  },
  {
   "cell_type": "code",
   "execution_count": 32,
   "metadata": {},
   "outputs": [
    {
     "ename": "DuplicatedNodeIdError",
     "evalue": "Can't create node with ID 'rootE'",
     "output_type": "error",
     "traceback": [
      "\u001b[1;31m---------------------------------------------------------------------------\u001b[0m",
      "\u001b[1;31mDuplicatedNodeIdError\u001b[0m                     Traceback (most recent call last)",
      "\u001b[1;32m<ipython-input-32-eccbf66350fe>\u001b[0m in \u001b[0;36m<module>\u001b[1;34m\u001b[0m\n\u001b[1;32m----> 1\u001b[1;33m \u001b[0mDTree\u001b[0m\u001b[1;33m.\u001b[0m\u001b[0mget_best_paths\u001b[0m\u001b[1;33m(\u001b[0m\u001b[1;33m)\u001b[0m\u001b[1;33m\u001b[0m\u001b[1;33m\u001b[0m\u001b[0m\n\u001b[0m",
      "\u001b[1;32md:\\repos\\PaperTeam\\algorithm\\modules\\DesTree.py\u001b[0m in \u001b[0;36mget_best_paths\u001b[1;34m(self)\u001b[0m\n\u001b[0;32m     23\u001b[0m \u001b[1;33m\u001b[0m\u001b[0m\n\u001b[0;32m     24\u001b[0m     \u001b[1;32mdef\u001b[0m \u001b[0mget_best_paths\u001b[0m\u001b[1;33m(\u001b[0m\u001b[0mself\u001b[0m\u001b[1;33m)\u001b[0m\u001b[1;33m:\u001b[0m\u001b[1;33m\u001b[0m\u001b[1;33m\u001b[0m\u001b[0m\n\u001b[1;32m---> 25\u001b[1;33m         \u001b[1;32mif\u001b[0m \u001b[1;32mnot\u001b[0m \u001b[0mself\u001b[0m\u001b[1;33m.\u001b[0m\u001b[0mcontains\u001b[0m\u001b[1;33m(\u001b[0m\u001b[1;34m'root'\u001b[0m\u001b[1;33m)\u001b[0m\u001b[1;33m:\u001b[0m\u001b[1;33m\u001b[0m\u001b[1;33m\u001b[0m\u001b[0m\n\u001b[0m\u001b[0;32m     26\u001b[0m             \u001b[0mself\u001b[0m\u001b[1;33m.\u001b[0m\u001b[0m__super_alg\u001b[0m\u001b[1;33m(\u001b[0m\u001b[1;33m)\u001b[0m\u001b[1;33m\u001b[0m\u001b[1;33m\u001b[0m\u001b[0m\n\u001b[0;32m     27\u001b[0m         \u001b[0mleaves\u001b[0m \u001b[1;33m=\u001b[0m \u001b[0mself\u001b[0m\u001b[1;33m.\u001b[0m\u001b[0mleaves\u001b[0m\u001b[1;33m(\u001b[0m\u001b[1;33m)\u001b[0m\u001b[1;33m\u001b[0m\u001b[1;33m\u001b[0m\u001b[0m\n",
      "\u001b[1;32md:\\repos\\PaperTeam\\algorithm\\modules\\DesTree.py\u001b[0m in \u001b[0;36m__super_alg\u001b[1;34m(self, parent)\u001b[0m\n\u001b[0;32m     17\u001b[0m         \u001b[1;32mfor\u001b[0m \u001b[0max\u001b[0m \u001b[1;32min\u001b[0m \u001b[0meq_axes\u001b[0m\u001b[1;33m:\u001b[0m\u001b[1;33m\u001b[0m\u001b[1;33m\u001b[0m\u001b[0m\n\u001b[0;32m     18\u001b[0m             \u001b[0mself\u001b[0m\u001b[1;33m.\u001b[0m\u001b[0mtp\u001b[0m\u001b[1;33m.\u001b[0m\u001b[0mfoldByAx\u001b[0m\u001b[1;33m(\u001b[0m\u001b[0max\u001b[0m\u001b[1;33m)\u001b[0m\u001b[1;33m\u001b[0m\u001b[1;33m\u001b[0m\u001b[0m\n\u001b[1;32m---> 19\u001b[1;33m             self.create_node(identifier=parent+ax,\n\u001b[0m\u001b[0;32m     20\u001b[0m                              parent=parent, data=self.tp.square)\n\u001b[0;32m     21\u001b[0m             \u001b[0mself\u001b[0m\u001b[1;33m.\u001b[0m\u001b[0m__super_alg\u001b[0m\u001b[1;33m(\u001b[0m\u001b[0mparent\u001b[0m\u001b[1;33m+\u001b[0m\u001b[0max\u001b[0m\u001b[1;33m)\u001b[0m\u001b[1;33m\u001b[0m\u001b[1;33m\u001b[0m\u001b[0m\n",
      "\u001b[1;32mD:\\apps\\Anaconda\\lib\\site-packages\\treelib\\tree.py\u001b[0m in \u001b[0;36mcreate_node\u001b[1;34m(self, tag, identifier, parent, data)\u001b[0m\n\u001b[0;32m    370\u001b[0m         \"\"\"\n\u001b[0;32m    371\u001b[0m         \u001b[0mnode\u001b[0m \u001b[1;33m=\u001b[0m \u001b[0mself\u001b[0m\u001b[1;33m.\u001b[0m\u001b[0mnode_class\u001b[0m\u001b[1;33m(\u001b[0m\u001b[0mtag\u001b[0m\u001b[1;33m=\u001b[0m\u001b[0mtag\u001b[0m\u001b[1;33m,\u001b[0m \u001b[0midentifier\u001b[0m\u001b[1;33m=\u001b[0m\u001b[0midentifier\u001b[0m\u001b[1;33m,\u001b[0m \u001b[0mdata\u001b[0m\u001b[1;33m=\u001b[0m\u001b[0mdata\u001b[0m\u001b[1;33m)\u001b[0m\u001b[1;33m\u001b[0m\u001b[1;33m\u001b[0m\u001b[0m\n\u001b[1;32m--> 372\u001b[1;33m         \u001b[0mself\u001b[0m\u001b[1;33m.\u001b[0m\u001b[0madd_node\u001b[0m\u001b[1;33m(\u001b[0m\u001b[0mnode\u001b[0m\u001b[1;33m,\u001b[0m \u001b[0mparent\u001b[0m\u001b[1;33m)\u001b[0m\u001b[1;33m\u001b[0m\u001b[1;33m\u001b[0m\u001b[0m\n\u001b[0m\u001b[0;32m    373\u001b[0m         \u001b[1;32mreturn\u001b[0m \u001b[0mnode\u001b[0m\u001b[1;33m\u001b[0m\u001b[1;33m\u001b[0m\u001b[0m\n\u001b[0;32m    374\u001b[0m \u001b[1;33m\u001b[0m\u001b[0m\n",
      "\u001b[1;32mD:\\apps\\Anaconda\\lib\\site-packages\\treelib\\tree.py\u001b[0m in \u001b[0;36madd_node\u001b[1;34m(self, node, parent)\u001b[0m\n\u001b[0;32m    293\u001b[0m \u001b[1;33m\u001b[0m\u001b[0m\n\u001b[0;32m    294\u001b[0m         \u001b[1;32mif\u001b[0m \u001b[0mnode\u001b[0m\u001b[1;33m.\u001b[0m\u001b[0midentifier\u001b[0m \u001b[1;32min\u001b[0m \u001b[0mself\u001b[0m\u001b[1;33m.\u001b[0m\u001b[0m_nodes\u001b[0m\u001b[1;33m:\u001b[0m\u001b[1;33m\u001b[0m\u001b[1;33m\u001b[0m\u001b[0m\n\u001b[1;32m--> 295\u001b[1;33m             raise DuplicatedNodeIdError(\"Can't create node \"\n\u001b[0m\u001b[0;32m    296\u001b[0m                                         \"with ID '%s'\" % node.identifier)\n\u001b[0;32m    297\u001b[0m \u001b[1;33m\u001b[0m\u001b[0m\n",
      "\u001b[1;31mDuplicatedNodeIdError\u001b[0m: Can't create node with ID 'rootE'"
     ]
    }
   ],
   "source": [
    "DTree.get_best_paths()"
   ]
  },
  {
   "cell_type": "code",
   "execution_count": 28,
   "metadata": {},
   "outputs": [
    {
     "name": "stdout",
     "output_type": "stream",
     "text": [
      "root\n",
      "├── rootE\n",
      "│   └── rootEH\n",
      "│       └── rootEHB\n",
      "│           ├── rootEHBD\n",
      "│           │   ├── rootEHBDG\n",
      "│           │   │   ├── rootEHBDGA\n",
      "│           │   │   └── rootEHBDGC\n",
      "│           │   └── rootEHBDI\n",
      "│           │       ├── rootEHBDIA\n",
      "│           │       └── rootEHBDIC\n",
      "│           ├── rootEHBF\n",
      "│           │   ├── rootEHBFG\n",
      "│           │   │   ├── rootEHBFGA\n",
      "│           │   │   └── rootEHBFGC\n",
      "│           │   └── rootEHBFI\n",
      "│           │       ├── rootEHBFIA\n",
      "│           │       └── rootEHBFIC\n",
      "│           ├── rootEHBG\n",
      "│           │   ├── rootEHBGD\n",
      "│           │   │   ├── rootEHBGDA\n",
      "│           │   │   └── rootEHBGDC\n",
      "│           │   └── rootEHBGF\n",
      "│           │       ├── rootEHBGFA\n",
      "│           │       └── rootEHBGFC\n",
      "│           └── rootEHBI\n",
      "│               ├── rootEHBID\n",
      "│               │   ├── rootEHBIDA\n",
      "│               │   └── rootEHBIDC\n",
      "│               └── rootEHBIF\n",
      "│                   ├── rootEHBIFA\n",
      "│                   └── rootEHBIFC\n",
      "└── rootH\n",
      "    └── rootHE\n",
      "        └── rootHEB\n",
      "            ├── rootHEBD\n",
      "            │   ├── rootHEBDG\n",
      "            │   │   ├── rootHEBDGA\n",
      "            │   │   └── rootHEBDGC\n",
      "            │   └── rootHEBDI\n",
      "            │       ├── rootHEBDIA\n",
      "            │       └── rootHEBDIC\n",
      "            ├── rootHEBF\n",
      "            │   ├── rootHEBFG\n",
      "            │   │   ├── rootHEBFGA\n",
      "            │   │   └── rootHEBFGC\n",
      "            │   └── rootHEBFI\n",
      "            │       ├── rootHEBFIA\n",
      "            │       └── rootHEBFIC\n",
      "            ├── rootHEBG\n",
      "            │   ├── rootHEBGD\n",
      "            │   │   ├── rootHEBGDA\n",
      "            │   │   └── rootHEBGDC\n",
      "            │   └── rootHEBGF\n",
      "            │       ├── rootHEBGFA\n",
      "            │       └── rootHEBGFC\n",
      "            └── rootHEBI\n",
      "                ├── rootHEBID\n",
      "                │   ├── rootHEBIDA\n",
      "                │   └── rootHEBIDC\n",
      "                └── rootHEBIF\n",
      "                    ├── rootHEBIFA\n",
      "                    └── rootHEBIFC\n",
      "\n"
     ]
    }
   ],
   "source": [
    "DTree.show()"
   ]
  },
  {
   "cell_type": "code",
   "execution_count": null,
   "metadata": {},
   "outputs": [],
   "source": []
  }
 ],
 "metadata": {
  "interpreter": {
   "hash": "6abfa634fa4e85825c6ec382d01af11eac59c8e30fd5399b5bc9f018db003425"
  },
  "kernelspec": {
   "display_name": "Python 3.8.3 ('base')",
   "language": "python",
   "name": "python3"
  },
  "language_info": {
   "codemirror_mode": {
    "name": "ipython",
    "version": 3
   },
   "file_extension": ".py",
   "mimetype": "text/x-python",
   "name": "python",
   "nbconvert_exporter": "python",
   "pygments_lexer": "ipython3",
   "version": "3.8.3"
  },
  "orig_nbformat": 4
 },
 "nbformat": 4,
 "nbformat_minor": 2
}
